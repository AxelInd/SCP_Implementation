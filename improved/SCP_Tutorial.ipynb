{
 "cells": [
  {
   "cell_type": "markdown",
   "metadata": {},
   "source": [
    "<h1> A Brief Introduction to the SCP Framework</h1>\n",
    "    \n",
    "<p>\n",
    "    The mathematical considerations and properties of the SCP framework are discussed in detail in my Master's Thesis. This file is intended to introduce a step by step procedure for modelling the Suppression Task using the SCP Framework.\n",
    "</p>"
   ]
  },
  {
   "cell_type": "markdown",
   "metadata": {},
   "source": [
    "<p> Add a path to the SCP Framework\n",
    "   </p>"
   ]
  },
  {
   "cell_type": "code",
   "execution_count": 1,
   "metadata": {},
   "outputs": [],
   "source": [
    "import copy\n",
    "import sys\n",
    "sys.path.append(\"/SCPFramework\") "
   ]
  },
  {
   "cell_type": "markdown",
   "metadata": {},
   "source": [
    "<p>\n",
    "Next, we import the major modules used by the SCP Framework.\n",
    "<ul>\n",
    "    <li><b>basicLogic</b>: an implementation of basic 2 and 3 valued logic.</li>\n",
    "  <li><b>epistemicState</b>: handles creation of epistemic states (lists of structural variables).</li>\n",
    "  <li><b>SCP_Task</b>: creates the SCP Task, from which SCPs may be generated.</li>\n",
    "    <li><b>scpNotationParser</b>: used to translate string into basicLogic clauses.</li>\n",
    "    <li><b>CTM</b>: A sequence of congitive operations which begin with an initial epistemic state.</li>\n",
    "    <li><b>CognitiveOperation</b>: pipes in the pipeline that is a CTM, transforms an input state point into some output state point.</li>\n",
    "    <li><b>StatePointOperations</b>: Generally useful SCP operations, such as testing strict and lenient modelling.</li>\n",
    "</ul> \n",
    "</p>"
   ]
  },
  {
   "cell_type": "code",
   "execution_count": 2,
   "metadata": {},
   "outputs": [],
   "source": [
    "from SCPFramework import basicLogic\n",
    "from SCPFramework import epistemicState\n",
    "from SCPFramework import SCP_Task\n",
    "from SCPFramework import scpNotationParser\n",
    "from SCPFramework import CTM\n",
    "from SCPFramework import CognitiveOperation\n",
    "from SCPFramework import StatePointOperations"
   ]
  },
  {
   "cell_type": "markdown",
   "metadata": {},
   "source": [
    "<h2> The Suppression Task</h2>\n",
    "<p>We will be modelling the Suppression Task to demonstrate the usefulness of the SCP Framework. \n",
    "The formulation we will be using is as follows:\n",
    "</p>\n",
    "<ul>\n",
    "<li>If she has an essay to write she will study late in the library.</li>\n",
    "<li>If the library is open she will study late in the library.</li>\n",
    "<li>She has an essay to write.</li>\n",
    "</ul>"
   ]
  },
  {
   "cell_type": "markdown",
   "metadata": {},
   "source": [
    "<h2> Creating The Inital State Point</h2>\n",
    "<p> The initial epistemic state consists of a list of <i>epistemicState</i> objects, each one corresponding to the unique information we have about the world in that instant. </p>"
   ]
  },
  {
   "cell_type": "markdown",
   "metadata": {},
   "source": [
    "<h3>  The Possible World V</h3>\n",
    "<p> The possible world of an epistemic state p is given by p[V] and represents the truth values assigned to that variable in its interpretation up that this point. We begin by defining V as the set of variables e,l, and o. All initially set to unknown. </p>"
   ]
  },
  {
   "cell_type": "code",
   "execution_count": 3,
   "metadata": {},
   "outputs": [],
   "source": [
    "#STARTING VARIABLES\n",
    "# e: she has an essay to write\n",
    "e = basicLogic.atom('e')\n",
    "# l: she will study late in the library\n",
    "l = basicLogic.atom('l')\n",
    "# o: the library is open\n",
    "o = basicLogic.atom('o')"
   ]
  },
  {
   "cell_type": "markdown",
   "metadata": {},
   "source": [
    "<h3>  The Set of Conditionals and Set of rules </h3>\n",
    "<p> In the first case of the suppression task we are aware only of the conditional (l|e). We are also aware of the unconditional fact that she has an essay to write. </p>"
   ]
  },
  {
   "cell_type": "code",
   "execution_count": 4,
   "metadata": {},
   "outputs": [],
   "source": [
    "delta_el=[\"( l | e )\"]\n",
    "#interpret the string set of the conditional as basicLogic\n",
    "delta_el_AsLogic = scpNotationParser.stringListToBasicLogic(delta_el)\n",
    "S1 = [\"( e <- T )\"]\n",
    "#interpret the string set of the propositional rules as basicLogic\n",
    "S1AsLogic = scpNotationParser.stringListToBasicLogic(S1)"
   ]
  },
  {
   "cell_type": "markdown",
   "metadata": {},
   "source": [
    "<h3> The first epistemic state </h3>\n",
    "<p>The first epistemic state we will consider is the case where an individual has only the information in delta_el and S1, we call this the 'el' case. It contains the structural variables S, Delta, and V.</p>"
   ]
  },
  {
   "cell_type": "code",
   "execution_count": 5,
   "metadata": {},
   "outputs": [],
   "source": [
    "basePoint_el=epistemicState.epistemicState('el')\n",
    "\n",
    "S1AsLogic = scpNotationParser.stringListToBasicLogic(S1)\n",
    "basePoint_el['S']=S1AsLogic\n",
    "basePoint_el['Delta']=delta_el_AsLogic\n",
    "basePoint_el['V']=[e,l]"
   ]
  },
  {
   "cell_type": "markdown",
   "metadata": {},
   "source": [
    "<h3> The second epistemic state </h3>\n",
    "<p>The second epistemic state we will consider is the case where an individual has the information in delta_el and S1 as well as the extra conditional that she will strudy late in the library if the library is open, we call this the 'elo' case. It contains the structural variables S, Delta, and V.</p>"
   ]
  },
  {
   "cell_type": "code",
   "execution_count": 6,
   "metadata": {},
   "outputs": [],
   "source": [
    "#The elo case expressed as the addition of information to the el case\n",
    "basePoint_elo=copy.deepcopy(basePoint_el)\n",
    "basePoint_elo.setName('elo')\n",
    "#The possible starting states for the SCP\n",
    "extraConditional=[\"( l | o )\"]\n",
    "extraConditionalAsLogic = scpNotationParser.stringListToBasicLogic(extraConditional)\n",
    "basePoint_elo['Delta']=basePoint_elo['Delta']+extraConditionalAsLogic\n",
    "basePoint_elo['V']=basePoint_elo['V']+[o]"
   ]
  },
  {
   "cell_type": "markdown",
   "metadata": {},
   "source": [
    "<h3> The initial state point </h3>\n",
    "<p>The initial state of any SCP to model the suppression task will use both el and elo  and show that, by using some set of cognitive operations,\n",
    "it is possible to derive an inference in el that is not derived in elo.</p>"
   ]
  },
  {
   "cell_type": "code",
   "execution_count": 7,
   "metadata": {},
   "outputs": [],
   "source": [
    "s_i=[basePoint_el,basePoint_elo]"
   ]
  },
  {
   "cell_type": "code",
   "execution_count": 8,
   "metadata": {},
   "outputs": [
    {
     "name": "stdout",
     "output_type": "stream",
     "text": [
      "[\n",
      "===>el<===\n",
      "S:: [(e ← ⊤)]\n",
      "Delta:: [(l | e)]\n",
      "V:: [(e:None), (l:None)]\n",
      ", \n",
      "===>elo<===\n",
      "S:: [(e ← ⊤)]\n",
      "Delta:: [(l | e), (l | o)]\n",
      "V:: [(e:None), (l:None), (o:None)]\n",
      "]\n"
     ]
    }
   ],
   "source": [
    "print(s_i)"
   ]
  },
  {
   "cell_type": "markdown",
   "metadata": {},
   "source": [
    "<h2> Creating The Goal Condition Gamma</h2>\n",
    "<p> The goal, gamma, tells us what output from our external activation function (defined next) we want to reproduce. Gamma should almost always correspond to empirical data. In this case, suppression is observed if el believes that she will study late in the library and elo does not. </p>"
   ]
  },
  {
   "cell_type": "code",
   "execution_count": 9,
   "metadata": {},
   "outputs": [],
   "source": [
    "gamma={'el':'She will study late in the library',\n",
    "       'elo':'We are uncertain if she will study late in the library'}"
   ]
  },
  {
   "cell_type": "markdown",
   "metadata": {},
   "source": [
    "<h2> Creating The External Evaluation Function f()</h2>\n",
    "<p> The external evaluation function f() uses information contained in our SCP to produce output that can be falsified or verified by comparring it to gamma. In our case we will use the final state dependent function <i>f_suppression_studyLate()</i>. Our activation function makes use a second function <i>f_studyLateSingle()</i> which determines, for a single base point in the final epistemic state point, if she will study late in the library.</p>"
   ]
  },
  {
   "cell_type": "code",
   "execution_count": 10,
   "metadata": {},
   "outputs": [],
   "source": [
    "# Compares the subSCPs 'el' and 'elo' and if there is a response in 'el' that is\n",
    "# not in 'elo', then we have supressed an inference.\n",
    "def f_suppression_studyLate(pi):\n",
    "    finalStructures=pi.evaluate()\n",
    "    finalStates=StatePointOperations.flattenStatePoint(finalStructures)\n",
    "    #print (finalStates)\n",
    "    #get all realised epis with 'el' name \n",
    "    statesForCaseEL = StatePointOperations.extractBasePointsFromFlattenedStatePoint(finalStates,name=\"el\")\n",
    "    #get all realised epis with 'elo' name \n",
    "    statesForCaseELO = StatePointOperations.extractBasePointsFromFlattenedStatePoint(finalStates,name=\"elo\")\n",
    "    \n",
    "    # find the set of responses that that the realised SCPs of 'el' could reach\n",
    "    responsesEL = f_studyLateSingle(statesForCaseEL)\n",
    "    # find the set of responses that that the realised SCPs of 'elo' could reach\n",
    "    responsesELO = f_studyLateSingle(statesForCaseELO)\n",
    "    \n",
    "    #suppression has occured if there is a response in responsesEL which is NOT\n",
    "    # in responsesELO\n",
    "    return {'el':responsesEL,'elo':responsesELO}\n",
    "\n",
    "# suppression is observed when el leads to the inference (l:True) and elo does not\n",
    "# evaluates a single epistmeic state to model the conclusion\n",
    "def f_studyLateSingle(finalEpis):\n",
    "    if not isinstance(finalEpis,list):\n",
    "        finalEpis=[finalEpis]\n",
    "    #print(\"Final states:\")\n",
    "    #print(finalEpis)\n",
    "    goal2 = [('l',True)]\n",
    "    responses=[]\n",
    "    for epi in finalEpis:\n",
    "        #print (\"\\n\")\n",
    "        #print (epi)\n",
    "        V = epi['V']\n",
    "        \n",
    "        for var in V:\n",
    "            for goal in goal2:\n",
    "                if var.getName()==goal[0] :\n",
    "                    if var.getValue()==goal[1]:\n",
    "                        responses.append(\"She will study late in the library\")\n",
    "                    if var.getValue()!=None and var.getValue()!=goal[1]:\n",
    "                        responses.append(\"She will not study late in the library\")\n",
    "                    if var.getValue()==None:\n",
    "                        responses.append(\"We are uncertain if she will study late in the library\")\n",
    "        #print (\"Epistemic state:\")\n",
    "        #print (epi)\n",
    "        #print (\"response(p_bar):\", responses[-1])\n",
    "        #print (\"------------------------------\")\n",
    "    return responses\n",
    "        "
   ]
  },
  {
   "cell_type": "code",
   "execution_count": 11,
   "metadata": {},
   "outputs": [],
   "source": [
    "f=f_suppression_studyLate"
   ]
  },
  {
   "cell_type": "markdown",
   "metadata": {},
   "source": [
    "<h2> The Set of Allowable Cognitive Operation M</h2>\n",
    "<p>The set of allowable cognitive operation in M determines what actions we can take to model the task at hand. In our case, we will use our suspicion that the task can be modelled using the Weak Completion Semantics. We will add both an aggregate operation for the WCS as a whole, as well as operations for weak completion and the semantic operation (redundant, but interesting).</p>"
   ]
  },
  {
   "cell_type": "code",
   "execution_count": 12,
   "metadata": {},
   "outputs": [],
   "source": [
    "# THE SET OF COGNITIVE OPERATIONS APPROPRIATE TO THE SUPPRESSION TASK\n",
    "ADDAB = CognitiveOperation.m_addAB()\n",
    "WCS = CognitiveOperation.m_wcs()\n",
    "WC = CognitiveOperation.m_wc()\n",
    "SEMANTIC = CognitiveOperation.m_semantic()"
   ]
  },
  {
   "cell_type": "code",
   "execution_count": 13,
   "metadata": {},
   "outputs": [],
   "source": [
    "M=[ADDAB,WCS,SEMANTIC,WC]"
   ]
  },
  {
   "cell_type": "markdown",
   "metadata": {},
   "source": [
    " <h2> The SCP Task </h2>\n",
    "<p>The SCP Task describes the cognitive task that we wish to model in its entirety. An SCP Task consists of:</p>\n",
    "<ul>\n",
    "<li><b>initial state point</b>: Our initial information about the world.</li>\n",
    "<li><b>M</b>: A set of allowable cognitive operations.</li>\n",
    "<li><b>f()</b>: Our external activation function.</li>\n",
    "<li><b>Gamma</b>: The empirical result we wish to model.</li>\n"
   ]
  },
  {
   "cell_type": "code",
   "execution_count": 14,
   "metadata": {},
   "outputs": [
    {
     "name": "stdout",
     "output_type": "stream",
     "text": [
      "[\n",
      "===>el<===\n",
      "S:: [(e ← ⊤)]\n",
      "Delta:: [(l | e)]\n",
      "V:: [(e:None), (l:None)]\n",
      ", \n",
      "===>elo<===\n",
      "S:: [(e ← ⊤)]\n",
      "Delta:: [(l | e), (l | o)]\n",
      "V:: [(e:None), (l:None), (o:None)]\n",
      "]\n",
      "[addAB, wcs, semantic, wc]\n",
      "<function f_suppression_studyLate at 0x000001F414CE34C8>\n",
      "{'el': 'She will study late in the library', 'elo': 'We are uncertain if she will study late in the library'}\n"
     ]
    }
   ],
   "source": [
    "print (s_i)\n",
    "print (M)\n",
    "print (f)\n",
    "print (gamma)"
   ]
  },
  {
   "cell_type": "code",
   "execution_count": 15,
   "metadata": {},
   "outputs": [],
   "source": [
    "task = SCP_Task.SCP_Task(s_i,M,f,gamma)  "
   ]
  },
  {
   "cell_type": "markdown",
   "metadata": {},
   "source": [
    "<h2> SCP Search </h2>\n",
    "<p>In order to find SCPs which model our task, we conduct a <i>De Novo</i> from the initial state until a certain depth. Every SCP produced by appending cognitive operations from M to the CTM which starts with s_i is a candidate solution. The type of validity and optimality requirements we use can limit this list. In our case, we simply wish to conduct a search for any case in which suppression occurs.</p>"
   ]
  },
  {
   "cell_type": "code",
   "execution_count": 16,
   "metadata": {},
   "outputs": [],
   "source": [
    "searchResult = task.deNoveSearch(depth=3)"
   ]
  },
  {
   "cell_type": "code",
   "execution_count": 17,
   "metadata": {},
   "outputs": [
    {
     "name": "stdout",
     "output_type": "stream",
     "text": [
      "(si => addAB => addAB => wcs, <function f_suppression_studyLate at 0x000001F414CE34C8>)\n",
      "(si => addAB => addAB => semantic, <function f_suppression_studyLate at 0x000001F414CE34C8>)\n",
      "(si => addAB => wcs => addAB, <function f_suppression_studyLate at 0x000001F414CE34C8>)\n",
      "(si => addAB => wcs => wcs, <function f_suppression_studyLate at 0x000001F414CE34C8>)\n",
      "(si => addAB => wcs => semantic, <function f_suppression_studyLate at 0x000001F414CE34C8>)\n",
      "(si => addAB => wcs => wc, <function f_suppression_studyLate at 0x000001F414CE34C8>)\n",
      "(si => addAB => semantic => addAB, <function f_suppression_studyLate at 0x000001F414CE34C8>)\n",
      "(si => addAB => semantic => wcs, <function f_suppression_studyLate at 0x000001F414CE34C8>)\n",
      "(si => addAB => semantic => semantic, <function f_suppression_studyLate at 0x000001F414CE34C8>)\n",
      "(si => addAB => semantic => wc, <function f_suppression_studyLate at 0x000001F414CE34C8>)\n",
      "(si => addAB => wc => wcs, <function f_suppression_studyLate at 0x000001F414CE34C8>)\n",
      "(si => addAB => wc => semantic, <function f_suppression_studyLate at 0x000001F414CE34C8>)\n",
      "(si => wcs => addAB => wcs, <function f_suppression_studyLate at 0x000001F414CE34C8>)\n",
      "(si => wcs => addAB => semantic, <function f_suppression_studyLate at 0x000001F414CE34C8>)\n",
      "(si => semantic => addAB => wcs, <function f_suppression_studyLate at 0x000001F414CE34C8>)\n",
      "(si => semantic => addAB => semantic, <function f_suppression_studyLate at 0x000001F414CE34C8>)\n",
      "(si => wc => addAB => wcs, <function f_suppression_studyLate at 0x000001F414CE34C8>)\n",
      "(si => wc => addAB => semantic, <function f_suppression_studyLate at 0x000001F414CE34C8>)\n"
     ]
    }
   ],
   "source": [
    "for result in searchResult:\n",
    "    print (result)"
   ]
  },
  {
   "cell_type": "markdown",
   "metadata": {},
   "source": [
    "We have now found several SCPs which, when applied, demonstrate suppression."
   ]
  },
  {
   "cell_type": "markdown",
   "metadata": {},
   "source": [
    "<h2> Examining a single SCP</h2>\n",
    "<p>Let us now focus on one of these candidate solutions: <i>si => addAB => semantic => wc </i>. We will create a <i>CTM</i> which describes this sequence of congitive operation, and we will show what prediction f(CTM) makes and why they meet the goal gamma.</p>"
   ]
  },
  {
   "cell_type": "code",
   "execution_count": 18,
   "metadata": {},
   "outputs": [],
   "source": [
    "def standardSuppression(s_i):\n",
    "    f=f_suppression_studyLate\n",
    "    #The desired output of the external evaluation function\n",
    "    gamma={'el':'She will study late in the library',\n",
    "           'elo':'We are uncertain if she will study late in the library'}\n",
    "    \n",
    "    #test ctm\n",
    "    c = CTM.CTM()\n",
    "    c.setSi(s_i)\n",
    "    c.appendm(ADDAB)\n",
    "    c.appendm(WC)\n",
    "    c.appendm(SEMANTIC)\n",
    "    \n",
    "    #final epistemic states of the scp\n",
    "    final=c.evaluate()\n",
    "    print (\"Final epistemic states are:\")\n",
    "    for state in final:\n",
    "        print (state)\n",
    "    predictions = f(c)\n",
    "    print (\"\")\n",
    "    print ('predictions: ', predictions)\n",
    "    print ('goal (gamma): ', gamma)\n",
    "    print (\"f(pi) models_lenient gamma_Sup :\", StatePointOperations.predictionsModelsGamma_lenient(predictions,gamma))\n",
    "    print (\"f(pi) models_strict gamma_Sup : \", \n",
    "           (StatePointOperations.predictionsModelsGamma_lenient(predictions,gamma)))  "
   ]
  },
  {
   "cell_type": "code",
   "execution_count": 19,
   "metadata": {},
   "outputs": [
    {
     "name": "stdout",
     "output_type": "stream",
     "text": [
      "Final epistemic states are:\n",
      "[[[\n",
      "===>el<===\n",
      "S:: [(e ↔ ⊤), (l ↔ (e ∧ (¬ ab_1))), (ab_1 ↔ ⊥)]\n",
      "Delta:: []\n",
      "V:: [(e:True), (l:True), (ab_1:False)]\n",
      "]]]\n",
      "[[[\n",
      "===>elo<===\n",
      "S:: [(e ↔ ⊤), (l ↔ ((e ∧ (¬ ab_1)) ∨ (o ∧ (¬ ab_2)))), (ab_1 ↔ (¬ o)), (ab_2 ↔ (¬ e))]\n",
      "Delta:: []\n",
      "V:: [(e:True), (l:None), (o:None), (ab_1:None), (ab_2:False)]\n",
      "]]]\n",
      "\n",
      "predictions:  {'el': ['She will study late in the library'], 'elo': ['We are uncertain if she will study late in the library']}\n",
      "goal (gamma):  {'el': 'She will study late in the library', 'elo': 'We are uncertain if she will study late in the library'}\n",
      "f(pi) models_lenient gamma_Sup : True\n",
      "f(pi) models_strict gamma_Sup :  True\n"
     ]
    }
   ],
   "source": [
    "standardSuppression(s_i)"
   ]
  },
  {
   "cell_type": "markdown",
   "metadata": {},
   "source": [
    "It is clear that, for this SCP, suppression has been observed because l is true in el and l is unknown in elo."
   ]
  }
 ],
 "metadata": {
  "kernelspec": {
   "display_name": "Python 3",
   "language": "python",
   "name": "python3"
  },
  "language_info": {
   "codemirror_mode": {
    "name": "ipython",
    "version": 3
   },
   "file_extension": ".py",
   "mimetype": "text/x-python",
   "name": "python",
   "nbconvert_exporter": "python",
   "pygments_lexer": "ipython3",
   "version": "3.7.6"
  }
 },
 "nbformat": 4,
 "nbformat_minor": 4
}
